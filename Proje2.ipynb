{
  "nbformat": 4,
  "nbformat_minor": 0,
  "metadata": {
    "colab": {
      "name": "Proje2.ipynb",
      "provenance": [],
      "authorship_tag": "ABX9TyP7gqKjw6heIokIj83RSQdJ",
      "include_colab_link": true
    },
    "kernelspec": {
      "name": "python3",
      "display_name": "Python 3"
    }
  },
  "cells": [
    {
      "cell_type": "markdown",
      "metadata": {
        "id": "view-in-github",
        "colab_type": "text"
      },
      "source": [
        "<a href=\"https://colab.research.google.com/github/mustafapaydas/HU-BBY-261-2020/blob/main/Proje2.ipynb\" target=\"_parent\"><img src=\"https://colab.research.google.com/assets/colab-badge.svg\" alt=\"Open In Colab\"/></a>"
      ]
    },
    {
      "cell_type": "code",
      "metadata": {
        "id": "kh-t6JZ65322"
      },
      "source": [
        "import tensorflow as tf\n",
        "import matplotlib.pyplot as plt\n",
        "import numpy as np\n",
        "import logging\n",
        "logger = tf.get_logger()\n",
        "logger.setLevel(logging.ERROR)\n",
        "\n",
        "beygir = np.array([1, 2, 3, 4, 5, 6, 7, 8, 9], dtype=float)\n",
        "kw =  np.array([0.745, 1.49, 2.235, 2.98, 3.725, 4.47, 5.215, 5.96, 6.705], dtype=float)\n",
        "yakit = np.array([0.53, 1.06, 1.59, 2.12, 2.6500000000000004, 3.18, 3.71, 4.24, 4.7700000000000005], dtype=float)\n",
        "\n",
        "for f, m in enumerate(beygir):\n",
        "    print(\"{} beygir {} kw' dır..\" .format(m, kw[f]))\n",
        "print(50 * \" \")\n",
        "for p ,n in enumerate(kw):\n",
        "    print(\"{} kw {} TL' dir..\" .format(n, yakit[p]))\n",
        "\n",
        "MP = tf.keras.layers.Dense(units=1, input_shape=[1])\n",
        "NP = tf.keras.layers.Dense(units=1, input_shape=[1])\n",
        "\n",
        "islem = tf.keras.Sequential([MP])\n",
        "hesap = tf.keras.Sequential([NP])\n",
        "hesap.compile(loss=\"mean_squared_error\", optimizer = tf.keras.optimizers.Adam(0.100))\n",
        "islem.compile(loss=\"mean_squared_error\", optimizer = tf.keras.optimizers.Adam(0.100))\n",
        "olusum = islem.fit(beygir, kw, epochs = 1500, verbose = False)\n",
        "olusum2 = hesap.fit(kw, yakit, epochs = 1500, verbose = False)\n",
        "print(50 * \" \")\n",
        "print(\"Loading!!! Wait Please...\")\n",
        "\n",
        "print(50 * \" \")\n",
        "\n",
        "al = input(\"Hesaplayacağınız km değerini giriniz: \")\n",
        "print(50 * \"**\")\n",
        "\n",
        "\n",
        "print(\"Hesapladığınız KiloWatt değeri yaklaşık {} kw' dır\" .format(islem.predict([int(al)])))\n",
        "print(50 * \"**\")\n",
        "print(\"Bu Makine veya Motor Saatte Tahmini {} TL harcar\" .format(hesap.predict(islem.predict([int(al)]))))\n",
        "print(50 * \"**\")\n",
        "#Gerçek Değer hesabını aşağıdaki gibi hesaplarız...\n",
        "print(\"Gerçek değerler\")\n",
        "gercekDeger = float(al) * 0.745\n",
        "print(\"Olması gereken kw Değeri {} KW'dır. \" .format(gercekDeger))\n",
        "paraDeger = gercekDeger * 0.53\n",
        "print(\"Olması Gereken Para Değeri: \", paraDeger, \"TL'dir\")"
      ],
      "execution_count": null,
      "outputs": []
    }
  ]
}